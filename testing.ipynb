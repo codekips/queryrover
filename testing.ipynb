{
 "cells": [
  {
   "cell_type": "code",
   "execution_count": 1,
   "id": "a297ec30-64a0-4c07-b7e8-c5322fc2c655",
   "metadata": {},
   "outputs": [
    {
     "name": "stdout",
     "output_type": "stream",
     "text": [
      "Creating the object\n"
     ]
    }
   ],
   "source": [
    "from qRover.session import Session"
   ]
  },
  {
   "cell_type": "code",
   "execution_count": 2,
   "id": "cdf18531-baeb-4e3a-83c6-d61db54d735d",
   "metadata": {},
   "outputs": [
    {
     "name": "stderr",
     "output_type": "stream",
     "text": [
      "Setting default log level to \"WARN\".\n",
      "To adjust logging level use sc.setLogLevel(newLevel). For SparkR, use setLogLevel(newLevel).\n",
      "24/02/15 10:17:49 WARN NativeCodeLoader: Unable to load native-hadoop library for your platform... using builtin-java classes where applicable\n",
      "24/02/15 10:17:50 WARN Utils: Service 'SparkUI' could not bind on port 4040. Attempting port 4041.\n"
     ]
    }
   ],
   "source": [
    "s = Session()"
   ]
  },
  {
   "cell_type": "code",
   "execution_count": 3,
   "id": "30ff0c56-b003-4ea0-b26e-9feedbf99865",
   "metadata": {},
   "outputs": [
    {
     "data": {
      "text/plain": [
       "<qRover.datasets.dataset.CSVDataset at 0x1761d7190>"
      ]
     },
     "execution_count": 3,
     "metadata": {},
     "output_type": "execute_result"
    }
   ],
   "source": [
    "s.manager.add_dataset(name=\"small_file\", location=\"tests/dumps/small_file.csv\")"
   ]
  },
  {
   "cell_type": "code",
   "execution_count": 4,
   "id": "9fdfc3b5-1318-4390-8904-b4d731c4c34d",
   "metadata": {},
   "outputs": [
    {
     "data": {
      "text/plain": [
       "{'small_file': <qRover.datasets.dataset.CSVDataset at 0x1761d7190>}"
      ]
     },
     "execution_count": 4,
     "metadata": {},
     "output_type": "execute_result"
    }
   ],
   "source": [
    "s.manager.dataset_service.dbrepo.datasets"
   ]
  },
  {
   "cell_type": "code",
   "execution_count": 6,
   "id": "f07f2cf9-cbae-4e4e-8003-9465734a6ece",
   "metadata": {},
   "outputs": [],
   "source": [
    "q = s.rover.fetch(['can'])"
   ]
  },
  {
   "cell_type": "code",
   "execution_count": 7,
   "id": "eee780ab-f698-4031-86cb-552562849818",
   "metadata": {},
   "outputs": [
    {
     "data": {
      "text/html": [
       "<div>\n",
       "<style scoped>\n",
       "    .dataframe tbody tr th:only-of-type {\n",
       "        vertical-align: middle;\n",
       "    }\n",
       "\n",
       "    .dataframe tbody tr th {\n",
       "        vertical-align: top;\n",
       "    }\n",
       "\n",
       "    .dataframe thead th {\n",
       "        text-align: right;\n",
       "    }\n",
       "</style>\n",
       "<table border=\"1\" class=\"dataframe\">\n",
       "  <thead>\n",
       "    <tr style=\"text-align: right;\">\n",
       "      <th></th>\n",
       "      <th>can</th>\n",
       "    </tr>\n",
       "  </thead>\n",
       "  <tbody>\n",
       "    <tr>\n",
       "      <th>0</th>\n",
       "      <td>771302592</td>\n",
       "    </tr>\n",
       "    <tr>\n",
       "      <th>1</th>\n",
       "      <td>366613822</td>\n",
       "    </tr>\n",
       "    <tr>\n",
       "      <th>2</th>\n",
       "      <td>953987255</td>\n",
       "    </tr>\n",
       "    <tr>\n",
       "      <th>3</th>\n",
       "      <td>663398725</td>\n",
       "    </tr>\n",
       "    <tr>\n",
       "      <th>4</th>\n",
       "      <td>46715</td>\n",
       "    </tr>\n",
       "    <tr>\n",
       "      <th>5</th>\n",
       "      <td>7804624558</td>\n",
       "    </tr>\n",
       "    <tr>\n",
       "      <th>6</th>\n",
       "      <td>7710598566</td>\n",
       "    </tr>\n",
       "    <tr>\n",
       "      <th>7</th>\n",
       "      <td>738710604</td>\n",
       "    </tr>\n",
       "    <tr>\n",
       "      <th>8</th>\n",
       "      <td>7743266946</td>\n",
       "    </tr>\n",
       "    <tr>\n",
       "      <th>9</th>\n",
       "      <td>100368</td>\n",
       "    </tr>\n",
       "  </tbody>\n",
       "</table>\n",
       "</div>"
      ],
      "text/plain": [
       "          can\n",
       "0   771302592\n",
       "1   366613822\n",
       "2   953987255\n",
       "3   663398725\n",
       "4       46715\n",
       "5  7804624558\n",
       "6  7710598566\n",
       "7   738710604\n",
       "8  7743266946\n",
       "9      100368"
      ]
     },
     "execution_count": 7,
     "metadata": {},
     "output_type": "execute_result"
    }
   ],
   "source": [
    "q.compute()"
   ]
  },
  {
   "cell_type": "code",
   "execution_count": 8,
   "id": "dbd87b9a-b8db-4e6f-8d98-69d8d4f50f0e",
   "metadata": {},
   "outputs": [],
   "source": [
    "q2 = s.rover.fetch(['family'])"
   ]
  },
  {
   "cell_type": "code",
   "execution_count": 9,
   "id": "db9abd41-0cb5-469f-a063-30a95bbde542",
   "metadata": {},
   "outputs": [
    {
     "data": {
      "text/html": [
       "<div>\n",
       "<style scoped>\n",
       "    .dataframe tbody tr th:only-of-type {\n",
       "        vertical-align: middle;\n",
       "    }\n",
       "\n",
       "    .dataframe tbody tr th {\n",
       "        vertical-align: top;\n",
       "    }\n",
       "\n",
       "    .dataframe thead th {\n",
       "        text-align: right;\n",
       "    }\n",
       "</style>\n",
       "<table border=\"1\" class=\"dataframe\">\n",
       "  <thead>\n",
       "    <tr style=\"text-align: right;\">\n",
       "      <th></th>\n",
       "      <th>family</th>\n",
       "    </tr>\n",
       "  </thead>\n",
       "  <tbody>\n",
       "    <tr>\n",
       "      <th>0</th>\n",
       "      <td>ProSeries</td>\n",
       "    </tr>\n",
       "    <tr>\n",
       "      <th>1</th>\n",
       "      <td>ITO</td>\n",
       "    </tr>\n",
       "    <tr>\n",
       "      <th>2</th>\n",
       "      <td>ProSeries</td>\n",
       "    </tr>\n",
       "    <tr>\n",
       "      <th>3</th>\n",
       "      <td>ITO</td>\n",
       "    </tr>\n",
       "    <tr>\n",
       "      <th>4</th>\n",
       "      <td>Lacerte</td>\n",
       "    </tr>\n",
       "    <tr>\n",
       "      <th>5</th>\n",
       "      <td>ProSeries</td>\n",
       "    </tr>\n",
       "    <tr>\n",
       "      <th>6</th>\n",
       "      <td>ProSeries</td>\n",
       "    </tr>\n",
       "    <tr>\n",
       "      <th>7</th>\n",
       "      <td>ITO</td>\n",
       "    </tr>\n",
       "    <tr>\n",
       "      <th>8</th>\n",
       "      <td>ProSeries</td>\n",
       "    </tr>\n",
       "    <tr>\n",
       "      <th>9</th>\n",
       "      <td>Lacerte</td>\n",
       "    </tr>\n",
       "  </tbody>\n",
       "</table>\n",
       "</div>"
      ],
      "text/plain": [
       "      family\n",
       "0  ProSeries\n",
       "1        ITO\n",
       "2  ProSeries\n",
       "3        ITO\n",
       "4    Lacerte\n",
       "5  ProSeries\n",
       "6  ProSeries\n",
       "7        ITO\n",
       "8  ProSeries\n",
       "9    Lacerte"
      ]
     },
     "execution_count": 9,
     "metadata": {},
     "output_type": "execute_result"
    }
   ],
   "source": [
    "q2.compute()"
   ]
  },
  {
   "cell_type": "code",
   "execution_count": 10,
   "id": "a49ed14c-5564-490c-893a-23719c11dfff",
   "metadata": {},
   "outputs": [],
   "source": [
    "q2 = s.rover.fetch(['family', 'can'])"
   ]
  },
  {
   "cell_type": "code",
   "execution_count": 11,
   "id": "f0a23af1-8af5-4b96-8df1-17a465f2a578",
   "metadata": {},
   "outputs": [
    {
     "data": {
      "text/html": [
       "<div>\n",
       "<style scoped>\n",
       "    .dataframe tbody tr th:only-of-type {\n",
       "        vertical-align: middle;\n",
       "    }\n",
       "\n",
       "    .dataframe tbody tr th {\n",
       "        vertical-align: top;\n",
       "    }\n",
       "\n",
       "    .dataframe thead th {\n",
       "        text-align: right;\n",
       "    }\n",
       "</style>\n",
       "<table border=\"1\" class=\"dataframe\">\n",
       "  <thead>\n",
       "    <tr style=\"text-align: right;\">\n",
       "      <th></th>\n",
       "      <th>family</th>\n",
       "      <th>can</th>\n",
       "    </tr>\n",
       "  </thead>\n",
       "  <tbody>\n",
       "    <tr>\n",
       "      <th>0</th>\n",
       "      <td>ProSeries</td>\n",
       "      <td>771302592</td>\n",
       "    </tr>\n",
       "    <tr>\n",
       "      <th>1</th>\n",
       "      <td>ITO</td>\n",
       "      <td>366613822</td>\n",
       "    </tr>\n",
       "    <tr>\n",
       "      <th>2</th>\n",
       "      <td>ProSeries</td>\n",
       "      <td>953987255</td>\n",
       "    </tr>\n",
       "    <tr>\n",
       "      <th>3</th>\n",
       "      <td>ITO</td>\n",
       "      <td>663398725</td>\n",
       "    </tr>\n",
       "    <tr>\n",
       "      <th>4</th>\n",
       "      <td>Lacerte</td>\n",
       "      <td>46715</td>\n",
       "    </tr>\n",
       "    <tr>\n",
       "      <th>5</th>\n",
       "      <td>ProSeries</td>\n",
       "      <td>7804624558</td>\n",
       "    </tr>\n",
       "    <tr>\n",
       "      <th>6</th>\n",
       "      <td>ProSeries</td>\n",
       "      <td>7710598566</td>\n",
       "    </tr>\n",
       "    <tr>\n",
       "      <th>7</th>\n",
       "      <td>ITO</td>\n",
       "      <td>738710604</td>\n",
       "    </tr>\n",
       "    <tr>\n",
       "      <th>8</th>\n",
       "      <td>ProSeries</td>\n",
       "      <td>7743266946</td>\n",
       "    </tr>\n",
       "    <tr>\n",
       "      <th>9</th>\n",
       "      <td>Lacerte</td>\n",
       "      <td>100368</td>\n",
       "    </tr>\n",
       "  </tbody>\n",
       "</table>\n",
       "</div>"
      ],
      "text/plain": [
       "      family         can\n",
       "0  ProSeries   771302592\n",
       "1        ITO   366613822\n",
       "2  ProSeries   953987255\n",
       "3        ITO   663398725\n",
       "4    Lacerte       46715\n",
       "5  ProSeries  7804624558\n",
       "6  ProSeries  7710598566\n",
       "7        ITO   738710604\n",
       "8  ProSeries  7743266946\n",
       "9    Lacerte      100368"
      ]
     },
     "execution_count": 11,
     "metadata": {},
     "output_type": "execute_result"
    }
   ],
   "source": [
    "q2.compute()"
   ]
  },
  {
   "cell_type": "code",
   "execution_count": 12,
   "id": "f168971e-9078-45f3-a76d-d4976ca7e443",
   "metadata": {},
   "outputs": [
    {
     "data": {
      "text/plain": [
       "<qRover.datasets.dataset.CSVDataset at 0x172a99f90>"
      ]
     },
     "execution_count": 12,
     "metadata": {},
     "output_type": "execute_result"
    }
   ],
   "source": [
    "s.manager.add_dataset(name=\"small_equity\", location=\"tests/dumps/small_equity.csv\")"
   ]
  },
  {
   "cell_type": "code",
   "execution_count": 15,
   "id": "dace740b-5827-43b6-a646-c72124e34482",
   "metadata": {},
   "outputs": [],
   "source": [
    "q3 = s.rover.fetch(['can','family','desc']).where('family','==',\"'ProSeries'\")"
   ]
  },
  {
   "cell_type": "code",
   "execution_count": 16,
   "id": "966ac322-ab0a-4dc2-b509-a59453a56531",
   "metadata": {},
   "outputs": [
    {
     "data": {
      "text/html": [
       "<div>\n",
       "<style scoped>\n",
       "    .dataframe tbody tr th:only-of-type {\n",
       "        vertical-align: middle;\n",
       "    }\n",
       "\n",
       "    .dataframe tbody tr th {\n",
       "        vertical-align: top;\n",
       "    }\n",
       "\n",
       "    .dataframe thead th {\n",
       "        text-align: right;\n",
       "    }\n",
       "</style>\n",
       "<table border=\"1\" class=\"dataframe\">\n",
       "  <thead>\n",
       "    <tr style=\"text-align: right;\">\n",
       "      <th></th>\n",
       "      <th>can</th>\n",
       "      <th>family</th>\n",
       "      <th>desc</th>\n",
       "    </tr>\n",
       "  </thead>\n",
       "  <tbody>\n",
       "    <tr>\n",
       "      <th>0</th>\n",
       "      <td>771302592</td>\n",
       "      <td>ProSeries</td>\n",
       "      <td>Basic 20 returns</td>\n",
       "    </tr>\n",
       "    <tr>\n",
       "      <th>1</th>\n",
       "      <td>953987255</td>\n",
       "      <td>ProSeries</td>\n",
       "      <td>1040 Complete (unlimited 1040)</td>\n",
       "    </tr>\n",
       "    <tr>\n",
       "      <th>2</th>\n",
       "      <td>7804624558</td>\n",
       "      <td>ProSeries</td>\n",
       "      <td>Basic 4 states, Unlimited 1040</td>\n",
       "    </tr>\n",
       "    <tr>\n",
       "      <th>3</th>\n",
       "      <td>7710598566</td>\n",
       "      <td>ProSeries</td>\n",
       "      <td>Basic 50 returns</td>\n",
       "    </tr>\n",
       "    <tr>\n",
       "      <th>4</th>\n",
       "      <td>7743266946</td>\n",
       "      <td>ProSeries</td>\n",
       "      <td>Basic 50 returns</td>\n",
       "    </tr>\n",
       "  </tbody>\n",
       "</table>\n",
       "</div>"
      ],
      "text/plain": [
       "          can     family                            desc\n",
       "0   771302592  ProSeries                Basic 20 returns\n",
       "1   953987255  ProSeries  1040 Complete (unlimited 1040)\n",
       "2  7804624558  ProSeries  Basic 4 states, Unlimited 1040\n",
       "3  7710598566  ProSeries                Basic 50 returns\n",
       "4  7743266946  ProSeries                Basic 50 returns"
      ]
     },
     "execution_count": 16,
     "metadata": {},
     "output_type": "execute_result"
    }
   ],
   "source": [
    "q3.compute()"
   ]
  },
  {
   "cell_type": "code",
   "execution_count": 17,
   "id": "6d74ed0f-d95c-4c44-81fb-73ff2f80a543",
   "metadata": {},
   "outputs": [],
   "source": [
    "r = s.rover"
   ]
  },
  {
   "cell_type": "code",
   "execution_count": 18,
   "id": "b6ce88ca-5780-44db-8149-81b7cf7efb34",
   "metadata": {},
   "outputs": [
    {
     "data": {
      "text/html": [
       "<div>\n",
       "<style scoped>\n",
       "    .dataframe tbody tr th:only-of-type {\n",
       "        vertical-align: middle;\n",
       "    }\n",
       "\n",
       "    .dataframe tbody tr th {\n",
       "        vertical-align: top;\n",
       "    }\n",
       "\n",
       "    .dataframe thead th {\n",
       "        text-align: right;\n",
       "    }\n",
       "</style>\n",
       "<table border=\"1\" class=\"dataframe\">\n",
       "  <thead>\n",
       "    <tr style=\"text-align: right;\">\n",
       "      <th></th>\n",
       "      <th>can</th>\n",
       "      <th>family</th>\n",
       "      <th>desc</th>\n",
       "    </tr>\n",
       "  </thead>\n",
       "  <tbody>\n",
       "    <tr>\n",
       "      <th>0</th>\n",
       "      <td>771302592</td>\n",
       "      <td>ProSeries</td>\n",
       "      <td>Basic 20 returns</td>\n",
       "    </tr>\n",
       "    <tr>\n",
       "      <th>1</th>\n",
       "      <td>953987255</td>\n",
       "      <td>ProSeries</td>\n",
       "      <td>1040 Complete (unlimited 1040)</td>\n",
       "    </tr>\n",
       "    <tr>\n",
       "      <th>2</th>\n",
       "      <td>7804624558</td>\n",
       "      <td>ProSeries</td>\n",
       "      <td>Basic 4 states, Unlimited 1040</td>\n",
       "    </tr>\n",
       "    <tr>\n",
       "      <th>3</th>\n",
       "      <td>7710598566</td>\n",
       "      <td>ProSeries</td>\n",
       "      <td>Basic 50 returns</td>\n",
       "    </tr>\n",
       "    <tr>\n",
       "      <th>4</th>\n",
       "      <td>7743266946</td>\n",
       "      <td>ProSeries</td>\n",
       "      <td>Basic 50 returns</td>\n",
       "    </tr>\n",
       "  </tbody>\n",
       "</table>\n",
       "</div>"
      ],
      "text/plain": [
       "          can     family                            desc\n",
       "0   771302592  ProSeries                Basic 20 returns\n",
       "1   953987255  ProSeries  1040 Complete (unlimited 1040)\n",
       "2  7804624558  ProSeries  Basic 4 states, Unlimited 1040\n",
       "3  7710598566  ProSeries                Basic 50 returns\n",
       "4  7743266946  ProSeries                Basic 50 returns"
      ]
     },
     "execution_count": 18,
     "metadata": {},
     "output_type": "execute_result"
    }
   ],
   "source": [
    "r.fetch(['can','family','desc']).where('family','==',\"'ProSeries'\").compute()"
   ]
  },
  {
   "cell_type": "code",
   "execution_count": null,
   "id": "f5f47728-8c85-4946-a4bf-70f15f8629de",
   "metadata": {},
   "outputs": [],
   "source": []
  }
 ],
 "metadata": {
  "kernelspec": {
   "display_name": "Python 3 (ipykernel)",
   "language": "python",
   "name": "python3"
  },
  "language_info": {
   "codemirror_mode": {
    "name": "ipython",
    "version": 3
   },
   "file_extension": ".py",
   "mimetype": "text/x-python",
   "name": "python",
   "nbconvert_exporter": "python",
   "pygments_lexer": "ipython3",
   "version": "3.11.6"
  }
 },
 "nbformat": 4,
 "nbformat_minor": 5
}
